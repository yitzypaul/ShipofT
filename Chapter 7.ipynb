{
 "cells": [
  {
   "cell_type": "code",
   "execution_count": 16,
   "metadata": {
    "collapsed": false
   },
   "outputs": [
    {
     "name": "stdout",
     "output_type": "stream",
     "text": [
      "destroyed. But it must circulate. It must not be contained. And Vévoda\n",
      "is the one who contains it. Thus the task remains. When he and Sola have\n",
      "completed it, they will ascend these corridors and reemerge into the\n",
      "world. There may be Agents waiting, but there will be more workers, and\n",
      "they will all carry axes and chisels and any other implements they can\n",
      "use to destroy these barrels and let the black wine- He sniffs: a rank\n",
      "smell cutting through the olfactory fog of blue-black and earth. He\n",
      "recognizes it at the very moment he feels the tug on his trouser leg.\n",
      "The monkey, somehow, looks to be in much more vigorous health, and from\n",
      "its toothless mouth comes a vocalization of a sort that S. has never\n",
      "heard from it, free from taunt or condescension or irritation. It\n",
      "sounds-and here, S. wonders if the air in the cellars is fogging his\n",
      "mind-as if the monkey is mimicking the run of notes in S’s last\n",
      "whistle-call to Sola. The monkey raises one hand, showing S. a jagged\n",
      "chunk of dark-gray roc\n"
     ]
    }
   ],
   "source": [
    "source = open('straka_chapter.txt')\n",
    "straka = source.read()\n",
    "print straka[:1000]"
   ]
  },
  {
   "cell_type": "code",
   "execution_count": 17,
   "metadata": {
    "collapsed": true
   },
   "outputs": [],
   "source": [
    "import re"
   ]
  },
  {
   "cell_type": "code",
   "execution_count": 21,
   "metadata": {
    "collapsed": true
   },
   "outputs": [],
   "source": [
    "def prep(text):\n",
    "    return re.sub('\\W+', '', text)"
   ]
  },
  {
   "cell_type": "code",
   "execution_count": 22,
   "metadata": {
    "collapsed": true
   },
   "outputs": [],
   "source": [
    "def pal(word):\n",
    "    return word.lower() == word[::-1].lower()"
   ]
  },
  {
   "cell_type": "code",
   "execution_count": 23,
   "metadata": {
    "collapsed": false
   },
   "outputs": [
    {
     "data": {
      "text/plain": [
       "False"
      ]
     },
     "execution_count": 23,
     "metadata": {},
     "output_type": "execute_result"
    }
   ],
   "source": [
    "pal(prep(straka))"
   ]
  },
  {
   "cell_type": "code",
   "execution_count": 15,
   "metadata": {
    "collapsed": false
   },
   "outputs": [
    {
     "data": {
      "text/plain": [
       "False"
      ]
     },
     "execution_count": 15,
     "metadata": {},
     "output_type": "execute_result"
    }
   ],
   "source": [
    "pal(prep(straka))"
   ]
  },
  {
   "cell_type": "code",
   "execution_count": 24,
   "metadata": {
    "collapsed": true
   },
   "outputs": [],
   "source": [
    "def palmulti(name):\n",
    "    result = ''\n",
    "    names = name.split()\n",
    "    for word in names:\n",
    "        wordrevised = re.sub('\\W+', '',word)\n",
    "        if wordrevised == 'Ss':\n",
    "            result = result\n",
    "        elif len(wordrevised) == 1:\n",
    "            result = result\n",
    "        elif wordrevised.lower() == 'did':\n",
    "            result = result\n",
    "        elif wordrevised.lower() == wordrevised[::-1].lower():\n",
    "            result = result + ' ' + wordrevised\n",
    "    return result"
   ]
  },
  {
   "cell_type": "code",
   "execution_count": 25,
   "metadata": {
    "collapsed": false
   },
   "outputs": [
    {
     "data": {
      "text/plain": [
       "' eye level sees sees sees sees eye'"
      ]
     },
     "execution_count": 25,
     "metadata": {},
     "output_type": "execute_result"
    }
   ],
   "source": [
    "palmulti(straka)"
   ]
  },
  {
   "cell_type": "code",
   "execution_count": 26,
   "metadata": {
    "collapsed": false
   },
   "outputs": [
    {
     "data": {
      "text/plain": [
       "' eye level sees sees sees sees eye'"
      ]
     },
     "execution_count": 26,
     "metadata": {},
     "output_type": "execute_result"
    }
   ],
   "source": [
    "palmulti(straka)"
   ]
  },
  {
   "cell_type": "code",
   "execution_count": 27,
   "metadata": {
    "collapsed": false
   },
   "outputs": [
    {
     "name": "stdout",
     "output_type": "stream",
     "text": [
      "Dammit I'm mad\n",
      "Evil is a deed as I live.\n",
      "God, am I reviled?\n",
      "I rise, my bed on a sun, I melt.\n",
      "To be not one man emanating is sad. I piss.\n",
      "Alas it is so late. Who stops to help? Man, it is hot.\n",
      " \n",
      "I'm in it.\n",
      "I tell.\n",
      "I am not a devil.\n",
      "I level \"Mad Dog\".\n",
      " \n",
      "Ah, say burning is as a deified gulp\n",
      "in my halo of a mired rum tin.\n",
      "I erase many men. Oh, to be man, a sin.\n",
      "Is evil in a clam? In a trap?\n",
      "No. It is open.\n",
      "On it I was stuck.\n",
      " \n",
      "Rats peed on hope.\n",
      "Elsewhere dips a web.\n",
      "Be still if I fill its ebb.\n",
      "Ew, a spider ... eh?\n",
      "We sleep.\n",
      " \n",
      "Oh no!\n",
      "Deep, stark cuts saw it in one position.\n",
      "Part animal, can I live? Sin is a name.\n",
      "Both, one ... my names are in it. Murder?\n",
      "I'm a fool. A hymn I plug,\n",
      "Deified as a sign in ruby ash - a Goddam level I lived at.\n",
      " \n",
      "On mail let it in. I'm it.\n",
      "Oh, sit in ample hot spots.\n",
      "Oh, wet!\n",
      "A loss it is alas (sip). I'd assign it a name.\n",
      "Name not one bottle minus an ode by me:\n",
      "\"Sir, I deliver. I'm a dog.\"\n",
      "Evil is a deed as I live.\n",
      "Dammit I'm mad.\n"
     ]
    }
   ],
   "source": [
    "source = open('palindromepoem.txt')\n",
    "straka = source.read()\n",
    "print straka[:1000]"
   ]
  },
  {
   "cell_type": "code",
   "execution_count": 28,
   "metadata": {
    "collapsed": false
   },
   "outputs": [
    {
     "name": "stdout",
     "output_type": "stream",
     "text": [
      "Dammit I'm mad\n",
      "Evil is a deed as I live.\n",
      "God, am I reviled?\n",
      "I rise, my bed on a sun, I melt.\n",
      "To be not one man emanating is sad. I piss.\n",
      "Alas it is so late. Who stops to help? Man, it is hot.\n",
      " \n",
      "I'm in it.\n",
      "I tell.\n",
      "I am not a devil.\n",
      "I level \"Mad Dog\".\n",
      " \n",
      "Ah, say burning is as a deified gulp\n",
      "in my halo of a mired rum tin.\n",
      "I erase many men. Oh, to be man, a sin.\n",
      "Is evil in a clam? In a trap?\n",
      "No. It is open.\n",
      "On it I was stuck.\n",
      " \n",
      "Rats peed on hope.\n",
      "Elsewhere dips a web.\n",
      "Be still if I fill its ebb.\n",
      "Ew, a spider ... eh?\n",
      "We sleep.\n",
      " \n",
      "Oh no!\n",
      "Deep, stark cuts saw it in one position.\n",
      "Part animal, can I live? Sin is a name.\n",
      "Both, one ... my names are in it. Murder?\n",
      "I'm a fool. A hymn I plug,\n",
      "Deified as a sign in ruby ash - a Goddam level I lived at.\n",
      " \n",
      "On mail let it in. I'm it.\n",
      "Oh, sit in ample hot spots.\n",
      "Oh, wet!\n",
      "A loss it is alas (sip). I'd assign it a name.\n",
      "Name not one bottle minus an ode by me:\n",
      "\"Sir, I deliver. I'm a dog.\"\n",
      "Evil is a deed as I live.\n",
      "Dammit I'm mad.\n"
     ]
    }
   ],
   "source": [
    "source = open('palindromepoem.txt')\n",
    "palindrome = source.read()\n",
    "print palindrome[:1000]"
   ]
  },
  {
   "cell_type": "code",
   "execution_count": 29,
   "metadata": {
    "collapsed": true
   },
   "outputs": [],
   "source": [
    "import re"
   ]
  },
  {
   "cell_type": "code",
   "execution_count": 30,
   "metadata": {
    "collapsed": true
   },
   "outputs": [],
   "source": [
    "def prep(text):\n",
    "    return re.sub('\\W+', '', text)"
   ]
  },
  {
   "cell_type": "code",
   "execution_count": 31,
   "metadata": {
    "collapsed": true
   },
   "outputs": [],
   "source": [
    "def pal(word):\n",
    "    return word.lower() == word[::-1].lower()"
   ]
  },
  {
   "cell_type": "code",
   "execution_count": 32,
   "metadata": {
    "collapsed": false
   },
   "outputs": [
    {
     "data": {
      "text/plain": [
       "True"
      ]
     },
     "execution_count": 32,
     "metadata": {},
     "output_type": "execute_result"
    }
   ],
   "source": [
    "pal(prep(palindrome))"
   ]
  },
  {
   "cell_type": "code",
   "execution_count": 33,
   "metadata": {
    "collapsed": true
   },
   "outputs": [],
   "source": [
    "def palmulti(name):\n",
    "    result = ''\n",
    "    names = name.split()\n",
    "    for word in names:\n",
    "        wordrevised = re.sub('\\W+', '',word)\n",
    "        if wordrevised == 'Ss':\n",
    "            result = result\n",
    "        elif len(wordrevised) == 1:\n",
    "            result = result\n",
    "        elif wordrevised.lower() == 'did':\n",
    "            result = result\n",
    "        elif wordrevised.lower() == wordrevised[::-1].lower():\n",
    "            result = result + ' ' + wordrevised\n",
    "    return result"
   ]
  },
  {
   "cell_type": "code",
   "execution_count": 34,
   "metadata": {
    "collapsed": false
   },
   "outputs": [
    {
     "data": {
      "text/plain": [
       "' deed level deified   Deified  level deed'"
      ]
     },
     "execution_count": 34,
     "metadata": {},
     "output_type": "execute_result"
    }
   ],
   "source": [
    "palmulti(palindrome)"
   ]
  },
  {
   "cell_type": "code",
   "execution_count": 36,
   "metadata": {
    "collapsed": false
   },
   "outputs": [],
   "source": [
    "#USING YOUR TEXT EDITOR (NOT YOUR IPYTHON NOTEBOOK), OPEN THE \"STRAKA_CHAPTER\" FILE. DO A SEARCH ON THE WORD \"YOU\",\n",
    "#BEING SURE TO CHECK THE \"entire word\" search option for your text editor. Take note of how many hits you get on\n",
    "#on that word (jotting it down). Once you've done that, do a regular expression search on the word \"you\"\n",
    "#that only searches for its appearance outside of any quotation marks. You should check the \"regular expression\" option\n",
    "#for your text editor (in Text Wrangler, it's \"Grep\". Be sure to also select the \"entire word\" option.)\n",
    "#Here's the regular expression you should copy-and-paste: (?!\\B\"[^\"]*)you(?![^\"]*\"\\B)\n",
    "#Once again, take note of the number of hits you get, comparing it to your previous number. Now repeat this exercise\n",
    "#for each of the other alternative chapter 10 ending files that you downloaded from CANVAS."
   ]
  },
  {
   "cell_type": "code",
   "execution_count": null,
   "metadata": {
    "collapsed": true
   },
   "outputs": [],
   "source": []
  }
 ],
 "metadata": {
  "kernelspec": {
   "display_name": "Python 2",
   "language": "python",
   "name": "python2"
  },
  "language_info": {
   "codemirror_mode": {
    "name": "ipython",
    "version": 2
   },
   "file_extension": ".py",
   "mimetype": "text/x-python",
   "name": "python",
   "nbconvert_exporter": "python",
   "pygments_lexer": "ipython2",
   "version": "2.7.13"
  }
 },
 "nbformat": 4,
 "nbformat_minor": 2
}
